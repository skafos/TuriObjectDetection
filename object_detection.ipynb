{
 "cells": [
  {
   "cell_type": "markdown",
   "metadata": {},
   "source": [
    "## **Turi Object Detection**\n",
    "Welcome to the object detection model quickstart on Skafos! The purpose of this notebook is to get you going end-to-end. Below we will do the following:\n",
    "\n",
    "1. Load images of cars, bikes and people and their corresponding [bounding boxes](https://computersciencewiki.org/index.php/Bounding_boxes).\n",
    "2. Build an object detection model for detecting cars, bikes and people in images.\n",
    "3. Convert the model to CoreML format and save it to the Skafos framework.\n",
    "\n",
    "The example is based on Turi Create's Object Detection model.\n",
    "\n",
    "---\n",
    "\n",
    "Execute each cell one-by-one, by selecting the cell and do one of the following:\n",
    "\n",
    "- Clicking the \"play\" button at the top of this frame.\n",
    "- Typing 'Control + Enter' or 'Shift + Enter'."
   ]
  },
  {
   "cell_type": "code",
   "execution_count": null,
   "metadata": {},
   "outputs": [],
   "source": [
    "# If this is your first time in the JupyterLab workspace - install external dependencies\n",
    "from utilities.dependencies import install\n",
    "install(timeout=500)\n",
    "\n",
    "# No need to do this in the future for this notebook"
   ]
  },
  {
   "cell_type": "code",
   "execution_count": null,
   "metadata": {},
   "outputs": [],
   "source": [
    "# Import necessary libraries\n",
    "import tarfile\n",
    "import urllib.request\n",
    "\n",
    "import coremltools\n",
    "import turicreate as tc\n",
    "from skafossdk import *"
   ]
  },
  {
   "cell_type": "code",
   "execution_count": null,
   "metadata": {},
   "outputs": [],
   "source": [
    "# Initialize Skafos\n",
    "ska = Skafos()"
   ]
  },
  {
   "cell_type": "markdown",
   "metadata": {},
   "source": [
    "### 1. **Load the data**\n",
    "The data for this example are 1096 images, which breaks down to 420 cars and 365 bikes and 311 people. The data set can be found [here](https://lear.inrialpes.fr/people/marszalek/data/ig02/).  To see how this data was created from the raw data set, check out `advanced_usage/load_object_data.ipynb`. The data is randomly split into train and test sets, where 80% of the data is used for training, and 20% is used for model evaluation."
   ]
  },
  {
   "cell_type": "code",
   "execution_count": null,
   "metadata": {},
   "outputs": [],
   "source": [
    "# Specify the data set download url\n",
    "data_url = \"https://s3.amazonaws.com/skafos.example.data/ObjectDetection/ig02.sframe.tar.gz\"\n",
    "data_path = \"ig02.sframe.tar.gz\"\n",
    "\n",
    "# Pull the compressed data and extract it\n",
    "retrieve = urllib.request.urlretrieve(data_url, data_path)\n",
    "tar = tarfile.open(data_path)\n",
    "tar.extractall()\n",
    "tar.close()"
   ]
  },
  {
   "cell_type": "code",
   "execution_count": null,
   "metadata": {},
   "outputs": [],
   "source": [
    "## Load the data\n",
    "data =  tc.SFrame('ig02.sframe')\n",
    "\n",
    "## Make a train-test split\n",
    "train_data, test_data = data.random_split(0.8)"
   ]
  },
  {
   "cell_type": "markdown",
   "metadata": {},
   "source": [
    "### 2. **Build the model**\n",
    "We pass the data to the `tc.object_detector.create` function and specify a few arguments needed to properly run the model. To understand more about this specific function, check out the [Turi Create Documentation](https://apple.github.io/turicreate/docs/userguide/object_detection/).\n",
    "\n",
    "**We recommend training this model on a GPU instead of CPU. Additionally, if you don't update the training dataset, it will re-create the baseline object detection model which can be found in the integration guide on the Skafos dashboard.** [You can leverage a GPU by deploying this code as a job](https://docs.metismachine.io/v1.3.1/docs/using-a-gpu)."
   ]
  },
  {
   "cell_type": "code",
   "execution_count": null,
   "metadata": {},
   "outputs": [],
   "source": [
    "# Create a model\n",
    "model = tc.object_detector.create(\n",
    "    dataset=train_data,\n",
    "    max_iterations=0, # if 0, Turi Create determines # of iterations\n",
    ")"
   ]
  },
  {
   "cell_type": "markdown",
   "metadata": {},
   "source": [
    "### 3. **Deliver the model**\n",
    "Once your model has been created, it must be converted to CoreML and saved to the Skafos framework. Once saved, if you wish to push to your iOS devices, you can use the `.deliver()` method below. We've left that commented out for now."
   ]
  },
  {
   "cell_type": "code",
   "execution_count": null,
   "metadata": {},
   "outputs": [],
   "source": [
    "# Specify the CoreML model name\n",
    "model_name = 'ObjectDetection'\n",
    "coreml_model_name = model_name + '.mlmodel'\n",
    "\n",
    "# Export the trained model to CoreML format\n",
    "res = model.export_coreml(coreml_model_name) \n",
    "\n",
    "# Use coremltools to convert model weights to half-precision.\n",
    "# This may be necessary if you have memory concerns within your app\n",
    "#model_spec = coremltools.utils.load_spec(coreml_model_name)\n",
    "#model_fp16_spec = coremltools.utils.convert_neural_network_spec_weights_to_fp16(model_spec)\n",
    "#coremltools.utils.save_spec(model_fp16_spec, coreml_model_name)\n",
    "\n",
    "# Save model asset to Skafos\n",
    "ska.asset_manager.save(\n",
    "    name=model_name,              # Name used to load or deliver asset, also used within the Swift SDK.\n",
    "    files=coreml_model_name,      # File or list of files to bundle together as a versioned asset.\n",
    "    tags=['latest'],              # User-defined tags to help distinguish your asset.\n",
    "    access='public'               # Asset access- public/private.\n",
    ")"
   ]
  },
  {
   "cell_type": "code",
   "execution_count": null,
   "metadata": {},
   "outputs": [],
   "source": [
    "# Deliver asset to devices (push)\n",
    "#ska.asset_manager.deliver(\n",
    "#  name=model_name,                # Name used to load or deliver asset, also used within the Swift SDK.\n",
    "#  tag='latest',                   # User-defined tags to help distinguish your asset.\n",
    "#  dev=True                        # Push asset through Apple's APNS dev or prod server\n",
    "#)"
   ]
  }
 ],
 "metadata": {
  "kernelspec": {
   "display_name": "Python 3",
   "language": "python",
   "name": "python3"
  },
  "language_info": {
   "codemirror_mode": {
    "name": "ipython",
    "version": 3
   },
   "file_extension": ".py",
   "mimetype": "text/x-python",
   "name": "python",
   "nbconvert_exporter": "python",
   "pygments_lexer": "ipython3",
   "version": "3.6.6"
  }
 },
 "nbformat": 4,
 "nbformat_minor": 2
}
